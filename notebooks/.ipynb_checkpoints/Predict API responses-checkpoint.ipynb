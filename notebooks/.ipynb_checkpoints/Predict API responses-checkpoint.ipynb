{
 "cells": [
  {
   "cell_type": "code",
   "execution_count": 1,
   "id": "8fc9fdbb-61f5-4954-9884-20d1dd9091f7",
   "metadata": {},
   "outputs": [],
   "source": [
    "import pandas as pd\n",
    "import numpy as np\n",
    "\n",
    "from sklearn.model_selection import train_test_split\n",
    "from sklearn.linear_model import LinearRegression\n",
    "from sklearn.metrics import mean_squared_error"
   ]
  },
  {
   "cell_type": "code",
   "execution_count": 20,
   "id": "e2e6551e-6a6f-4fd4-873e-502af327b818",
   "metadata": {},
   "outputs": [],
   "source": [
    "def get_duration(df):\n",
    "     return (df['date'] - pd.to_datetime('2024-01-01')).dt.total_seconds()"
   ]
  },
  {
   "cell_type": "code",
   "execution_count": 21,
   "id": "8384ae2f-56c8-4795-b9af-1c1500fea6ac",
   "metadata": {},
   "outputs": [
    {
     "data": {
      "text/html": [
       "<div>\n",
       "<style scoped>\n",
       "    .dataframe tbody tr th:only-of-type {\n",
       "        vertical-align: middle;\n",
       "    }\n",
       "\n",
       "    .dataframe tbody tr th {\n",
       "        vertical-align: top;\n",
       "    }\n",
       "\n",
       "    .dataframe thead th {\n",
       "        text-align: right;\n",
       "    }\n",
       "</style>\n",
       "<table border=\"1\" class=\"dataframe\">\n",
       "  <thead>\n",
       "    <tr style=\"text-align: right;\">\n",
       "      <th></th>\n",
       "      <th>date</th>\n",
       "      <th>value</th>\n",
       "      <th>duration</th>\n",
       "    </tr>\n",
       "  </thead>\n",
       "  <tbody>\n",
       "    <tr>\n",
       "      <th>0</th>\n",
       "      <td>2024-01-01 00:00:00</td>\n",
       "      <td>77</td>\n",
       "      <td>0.0</td>\n",
       "    </tr>\n",
       "    <tr>\n",
       "      <th>1</th>\n",
       "      <td>2024-01-01 00:01:00</td>\n",
       "      <td>46</td>\n",
       "      <td>60.0</td>\n",
       "    </tr>\n",
       "    <tr>\n",
       "      <th>2</th>\n",
       "      <td>2024-01-01 00:02:00</td>\n",
       "      <td>67</td>\n",
       "      <td>120.0</td>\n",
       "    </tr>\n",
       "  </tbody>\n",
       "</table>\n",
       "</div>"
      ],
      "text/plain": [
       "                 date  value  duration\n",
       "0 2024-01-01 00:00:00     77       0.0\n",
       "1 2024-01-01 00:01:00     46      60.0\n",
       "2 2024-01-01 00:02:00     67     120.0"
      ]
     },
     "execution_count": 21,
     "metadata": {},
     "output_type": "execute_result"
    }
   ],
   "source": [
    "dates = pd.date_range(start='2024-01-01', end='2024-01-02', freq='min')\n",
    "values = np.random.randint(low=0, high=100, size=len(dates))\n",
    "\n",
    "df = pd.DataFrame({'date': dates, 'value': values})\n",
    "df['duration'] = get_duration(df)\n",
    "\n",
    "df.head(3)"
   ]
  },
  {
   "cell_type": "code",
   "execution_count": 17,
   "id": "24b83ae9-9359-419e-8a81-ae41e0ab8b99",
   "metadata": {},
   "outputs": [],
   "source": [
    "def linear_model(df):\n",
    "    X = df['duration'].values.reshape(-1, 1)\n",
    "    y = df['value']\n",
    "    \n",
    "    model = LinearRegression()\n",
    "    \n",
    "    X_train, X_test, y_train, y_test = train_test_split(X, y, test_size=0.2, random_state=42)\n",
    "    model.fit(X_train, y_train)\n",
    "    \n",
    "    y_pred = model.predict(X_test)\n",
    "    \n",
    "    mse = mean_squared_error(y_test, y_pred)\n",
    "    var = df['value'].var()\n",
    "    \n",
    "    print(f'MSE: {mse} vs Var: {var}')"
   ]
  },
  {
   "cell_type": "code",
   "execution_count": 18,
   "id": "d7ba3100-6143-4dd3-b743-8b6269bea6f5",
   "metadata": {},
   "outputs": [
    {
     "name": "stdout",
     "output_type": "stream",
     "text": [
      "MSE: 837.2139846257983 vs Var: 819.0981561801218\n"
     ]
    }
   ],
   "source": [
    "linear_model(df)"
   ]
  },
  {
   "cell_type": "code",
   "execution_count": 22,
   "id": "836ecea7-eacc-4152-b5cb-4f8bc44cd2dc",
   "metadata": {},
   "outputs": [
    {
     "name": "stdout",
     "output_type": "stream",
     "text": [
      "MSE: 1.3901246820109464e-26 vs Var: 692640.6666666666\n"
     ]
    }
   ],
   "source": [
    "def linear_function(x):\n",
    "    return 2 * x + 10\n",
    "\n",
    "values = linear_function(np.arange(len(dates)))\n",
    "\n",
    "df = pd.DataFrame({'date': dates, 'value': values})\n",
    "df['duration'] = get_duration(df)\n",
    "\n",
    "linear_model(df)"
   ]
  },
  {
   "cell_type": "code",
   "execution_count": 25,
   "id": "5b177eec-a319-43d4-8b7c-3e05b3c8fffb",
   "metadata": {},
   "outputs": [
    {
     "name": "stdout",
     "output_type": "stream",
     "text": [
      "MSE: 12.552268314656468 vs Var: 42242.59794414516\n"
     ]
    }
   ],
   "source": [
    "# Define a function to simulate user behavior\n",
    "def simulate_user_behavior(dates):\n",
    "    # Linear trend\n",
    "    trend = np.arange(len(dates))\n",
    "    \n",
    "    # Hourly periodic component\n",
    "    hourly_component = np.sin(2 * np.pi * dates.hour / 24)\n",
    "    \n",
    "    # Daily periodic component\n",
    "    daily_component = np.sin(2 * np.pi * dates.dayofyear / 365)\n",
    "    \n",
    "    # Random noise\n",
    "    noise = np.random.normal(0, 1, len(dates))\n",
    "    \n",
    "    # Combine components\n",
    "    user_behavior = 10 + 0.5 * trend + 5 * hourly_component + 5 * daily_component + 3 * noise\n",
    "    \n",
    "    return user_behavior\n",
    "\n",
    "values = simulate_user_behavior(dates)\n",
    "\n",
    "df = pd.DataFrame({'date': dates, 'value': values})\n",
    "df['duration'] = get_duration(df)\n",
    "\n",
    "linear_model(df)"
   ]
  },
  {
   "cell_type": "code",
   "execution_count": null,
   "id": "d0379a3d-a964-46e9-bbcb-ca2aa99c9569",
   "metadata": {},
   "outputs": [],
   "source": []
  },
  {
   "cell_type": "code",
   "execution_count": null,
   "id": "030f18b4-bc38-49a3-a390-ce3bb0fa9c7b",
   "metadata": {},
   "outputs": [],
   "source": []
  }
 ],
 "metadata": {
  "kernelspec": {
   "display_name": "Python 3 (ipykernel)",
   "language": "python",
   "name": "python3"
  },
  "language_info": {
   "codemirror_mode": {
    "name": "ipython",
    "version": 3
   },
   "file_extension": ".py",
   "mimetype": "text/x-python",
   "name": "python",
   "nbconvert_exporter": "python",
   "pygments_lexer": "ipython3",
   "version": "3.9.6"
  }
 },
 "nbformat": 4,
 "nbformat_minor": 5
}
